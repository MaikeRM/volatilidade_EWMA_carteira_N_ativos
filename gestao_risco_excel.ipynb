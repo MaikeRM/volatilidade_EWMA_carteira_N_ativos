{
 "cells": [
  {
   "cell_type": "code",
   "execution_count": null,
   "source": [
    "##Importando bibliotecas\r\n",
    "import yfinance as yf\r\n",
    "import pandas as pd\r\n",
    "import numpy as np\r\n",
    "import warnings\r\n",
    "warnings.filterwarnings('ignore')\r\n",
    "import matplotlib\r\n",
    "from datetime import date\r\n",
    "matplotlib.rcParams['figure.figsize'] = (18,8)"
   ],
   "outputs": [],
   "metadata": {}
  },
  {
   "cell_type": "markdown",
   "source": [
    "# Import do arquivo e ajustes na base"
   ],
   "metadata": {}
  },
  {
   "cell_type": "code",
   "execution_count": null,
   "source": [
    "#Fazendo o upload do arquivo trades.xlsx\r\n",
    "arquivo = pd.read_excel(r'carteira.xlsx', sheet_name='VISTA')\r\n",
    "arquivo.columns = arquivo.iloc[0]\r\n",
    "arquivo = arquivo.iloc[2:] \r\n",
    "arquivo.index = arquivo[\"Data\"]\r\n",
    "arquivo.columns = [\"Data\", \"ticker\", \"C/V\", \"Quantidade\", \"Unitário (s corretagem)\", \r\n",
    "                    \"Total (s corretagem)\", \"Unitário (c corretagem)\", \"Total (c corretagem)\", \"Total Despesas\", \"NaN\"]\r\n",
    "arquivo.drop(columns=[\"Data\", \"Unitário (s corretagem)\", \"Total (s corretagem)\", \"Total Despesas\", \"NaN\"], inplace=True)"
   ],
   "outputs": [],
   "metadata": {}
  },
  {
   "cell_type": "markdown",
   "source": [
    "# Operações"
   ],
   "metadata": {}
  },
  {
   "cell_type": "code",
   "execution_count": null,
   "source": [
    "### Criando tabela com colunas para cada ativo e indexando por data\r\n",
    "trade_quantidade = pd.pivot_table(arquivo, values='Quantidade', index='Data', columns='ticker', aggfunc=np.sum, fill_value=0)\r\n",
    "trade_quantidade"
   ],
   "outputs": [],
   "metadata": {}
  },
  {
   "cell_type": "code",
   "execution_count": null,
   "source": [
    "### Criando tabela com os preços de compra e venda\r\n",
    "trade_preco = pd.pivot_table(arquivo, values=\"Unitário (c corretagem)\", index=['Data'], columns=arquivo['ticker'].str.upper(), aggfunc=np.sum,fill_value=0)\r\n",
    "trade_preco"
   ],
   "outputs": [],
   "metadata": {}
  },
  {
   "cell_type": "markdown",
   "source": [
    "## Download dos dados diários"
   ],
   "metadata": {}
  },
  {
   "cell_type": "code",
   "execution_count": null,
   "source": [
    "### Baixando os cotações das ações\r\n",
    "prices = yf.download(tickers=(trade_quantidade.columns+'.SA').to_list(), start=trade_quantidade.index[0], rounding=True)['Adj Close']"
   ],
   "outputs": [],
   "metadata": {}
  },
  {
   "cell_type": "markdown",
   "source": [
    "## Consolidadndo posições"
   ],
   "metadata": {}
  },
  {
   "cell_type": "code",
   "execution_count": null,
   "source": [
    "### Consolida posições\r\n",
    "prices.columns  = prices.columns.str.rstrip('.SA')\r\n",
    "prices.dropna(how='all', inplace=True)\r\n",
    "trades = trade_quantidade.reindex(index=prices.index)\r\n",
    "trades.fillna(value=0, inplace=True)\r\n",
    "aportes = (trades * trade_preco).sum(axis=1)\r\n",
    "posicao = trades.cumsum()"
   ],
   "outputs": [],
   "metadata": {}
  },
  {
   "cell_type": "code",
   "execution_count": null,
   "source": [
    "### Consolida saldo\r\n",
    "carteira = posicao * prices\r\n",
    "carteira['saldo'] = carteira.sum(axis=1)\r\n",
    "#carteira = carteira[:-2]\r\n",
    "\r\n",
    "### Exporta para Excel\r\n",
    "data_atual = date.today()\r\n",
    "carteira.to_excel('carteira_{}-{}-{}.xlsx'.format(data_atual.day, data_atual.month,data_atual.year))"
   ],
   "outputs": [],
   "metadata": {}
  },
  {
   "cell_type": "markdown",
   "source": [
    "# Volatilidade"
   ],
   "metadata": {}
  },
  {
   "cell_type": "markdown",
   "source": [
    "## Retorno e correlação"
   ],
   "metadata": {}
  },
  {
   "cell_type": "code",
   "execution_count": null,
   "source": [
    "#Baixa os dados históricos\r\n",
    "hist_price = yf.download(tickers=(trade_quantidade.columns+'.SA').to_list(), period=\"3y\")['Adj Close']\r\n",
    "retr_log = np.log(hist_price).diff()\r\n",
    "retr_log.dropna(inplace=True)\r\n",
    "\r\n",
    "#Calcula o peso de cada ação  - dados históricos de movimentações\r\n",
    "weights = carteira.div(carteira['saldo'], axis=0)\r\n",
    "weights = weights.iloc[:,:-1]\r\n",
    "weights = weights.drop(weights.index[278])\r\n",
    "weights.columns = retr_log.columns\r\n",
    "\r\n",
    "#Calcula a volatilidade EWMA para todos os ativos em uma janela de 252 dias\r\n",
    "r = retr_log.ewm(alpha = 0.05, min_periods=252, adjust=False).std(252)\r\n",
    "vol  = (r)**(1/1)\r\n",
    "vol['2020':].plot(figsize=(30,10))\r\n",
    "\r\n",
    "#Baixa os dados e calcula volatilidade para o IBOVESPA\r\n",
    "prices = yf.download(tickers= \"^BVSP\", period=\"3y\", rounding=True)['Adj Close']\r\n",
    "retr_log_ibov = np.log(prices).diff()\r\n",
    "retr_log_ibov.dropna(inplace=True)\r\n",
    "ibov_vol = retr_log_ibov.ewm(alpha = 0.05, min_periods=252, adjust=False).std(252)\r\n",
    "ibov_vol  = (ibov_vol)**(1/1)\r\n",
    "\r\n",
    "#Calculo de correlação entre os ativosb\r\n",
    "corr = retr_log.rolling(252).corr()\r\n",
    "new_index = pd.MultiIndex.from_tuples(corr.index, names=['Date','Ticker'])\r\n",
    "corr_ewma = pd.DataFrame(corr, columns = corr.columns, index=new_index)\r\n",
    "\r\n",
    "#limpa dados NA\r\n",
    "vol.dropna( inplace=True)\r\n",
    "vol = vol[weights.index[0]:weights.index[-1]]"
   ],
   "outputs": [],
   "metadata": {}
  },
  {
   "cell_type": "code",
   "execution_count": null,
   "source": [
    "#Calcula a volatilidade da carteira do Sr. Carlos utilizando matrizes\r\n",
    "a=-1\r\n",
    "n = 0\r\n",
    "vol_cart = pd.DataFrame(columns=list(weights.columns.values), index=range(len(weights.index)))"
   ],
   "outputs": [],
   "metadata": {}
  },
  {
   "cell_type": "code",
   "execution_count": null,
   "source": [
    "len(vol.index)"
   ],
   "outputs": [],
   "metadata": {}
  },
  {
   "cell_type": "code",
   "execution_count": null,
   "source": [
    "corr"
   ],
   "outputs": [],
   "metadata": {}
  },
  {
   "cell_type": "markdown",
   "source": [
    "## Calcula vol da carteira"
   ],
   "metadata": {}
  },
  {
   "cell_type": "code",
   "execution_count": null,
   "source": [
    "#Calcula o corr*pesos par a par ( ex: BBDC4 x BRFS4 .... PETR4 x VALE3)\r\n",
    "for n in range(len(vol)):\r\n",
    "    vol_cart.loc[n] = (vol.iloc[n,]*weights.iloc[n,])*corr.loc[weights.index[n,]].dot(weights.iloc[n,])\r\n",
    "    n = n+1\r\n",
    "    if n == (len(vol)): break"
   ],
   "outputs": [],
   "metadata": {}
  },
  {
   "cell_type": "code",
   "execution_count": null,
   "source": [
    "vol_cart = pd.DataFrame(vol_cart.sum(axis=1))\r\n",
    "vol_cart.index = vol.index"
   ],
   "outputs": [],
   "metadata": {}
  },
  {
   "cell_type": "code",
   "execution_count": null,
   "source": [
    "#Adiciona o IBOV para Benchmark\r\n",
    "vol_cart['IBOV'] = ibov_vol[weights.index[0]:weights.index[-1]]"
   ],
   "outputs": [],
   "metadata": {}
  },
  {
   "cell_type": "code",
   "execution_count": null,
   "source": [
    "vol_cart.plot(figsize = (20,10))"
   ],
   "outputs": [],
   "metadata": {}
  },
  {
   "cell_type": "code",
   "execution_count": null,
   "source": [
    "vol_cart.to_excel('vol_carteira_{}-{}-{}.xlsx'.format(data_atual.day, data_atual.month,data_atual.year))"
   ],
   "outputs": [],
   "metadata": {}
  }
 ],
 "metadata": {
  "interpreter": {
   "hash": "2a89ebda5b1df6869a80ed231ce3cbd82800ba4c96516904a7ea152290f5b260"
  },
  "kernelspec": {
   "name": "python3",
   "display_name": "Python 3.8.8 64-bit ('base': conda)"
  },
  "language_info": {
   "codemirror_mode": {
    "name": "ipython",
    "version": 3
   },
   "file_extension": ".py",
   "mimetype": "text/x-python",
   "name": "python",
   "nbconvert_exporter": "python",
   "pygments_lexer": "ipython3",
   "version": "3.8.8"
  },
  "metadata": {
   "interpreter": {
    "hash": "b3d3522493934ff0138aee2c6dff330d5dccf278757c2f33119be5c9d92446bf"
   }
  },
  "orig_nbformat": 2
 },
 "nbformat": 4,
 "nbformat_minor": 2
}